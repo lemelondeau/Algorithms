{
 "cells": [
  {
   "cell_type": "code",
   "execution_count": 1,
   "metadata": {
    "collapsed": true
   },
   "outputs": [],
   "source": [
    "import numpy as np\n",
    "import pandas as pd\n",
    "from sklearn import preprocessing"
   ]
  },
  {
   "cell_type": "code",
   "execution_count": 2,
   "metadata": {
    "collapsed": true
   },
   "outputs": [],
   "source": [
    "# import data and feature scale\n",
    "def load_data(filename):\n",
    "    data = pd.read_csv(filename, header = None)\n",
    "    data = np.array(data)\n",
    "    X = data[:, 0:-2]\n",
    "    y = data[:, -1]\n",
    "    X = preprocessing.MinMaxScaler().fit_transform(X)\n",
    "    return X, y"
   ]
  },
  {
   "cell_type": "code",
   "execution_count": 3,
   "metadata": {
    "collapsed": true
   },
   "outputs": [],
   "source": [
    "def grad_descent(f, initial, stepsize, threshold, X, y):\n",
    "    diff=np.Inf\n",
    "    w = initial\n",
    "    cost, grad = f(X, y, initial)\n",
    "    while diff > threshold:     \n",
    "        w = w - stepsize * grad\n",
    "        cost_old = cost\n",
    "        cost, grad = f(X, y, w)\n",
    "        diff = np.abs(cost-cost_old)\n",
    "    return w"
   ]
  },
  {
   "cell_type": "code",
   "execution_count": 4,
   "metadata": {
    "collapsed": true
   },
   "outputs": [],
   "source": [
    "def sgd(f, initial, stepsize, epoch, X, y):\n",
    "    w = initial\n",
    "    # better shuffle the training data\n",
    "    for e in range(epoch):\n",
    "        for i in range(X.shape[0]):\n",
    "            _, grad = f(X[i,:], y[i],w)\n",
    "            w = w - stepsize * grad\n",
    "    return w"
   ]
  },
  {
   "cell_type": "markdown",
   "metadata": {},
   "source": [
    "Cost function:\n",
    "$J(w)=\\sum_i(y_i-x_i^Tw)^2$"
   ]
  },
  {
   "cell_type": "markdown",
   "metadata": {},
   "source": [
    "Gradient: $\\frac{\\partial{J(w)}}{\\partial{w_d}}=\\sum_i-x_{id}2(y_i-x_i^Tw)$"
   ]
  },
  {
   "cell_type": "code",
   "execution_count": 5,
   "metadata": {
    "collapsed": true
   },
   "outputs": [],
   "source": [
    "def linear_regression(X, y, w):\n",
    "    mse=np.mean((y-np.matmul(X, w))**2) #cost\n",
    "    if type(y)==np.float64:\n",
    "        grad = -2*(y-np.matmul(X, w))*np.transpose(X)\n",
    "    else:\n",
    "        grad = -2*np.matmul(np.transpose(X),(y-np.matmul(X, w)))\n",
    "    return mse, grad"
   ]
  },
  {
   "cell_type": "markdown",
   "metadata": {},
   "source": [
    "Test gradient descent and SGD"
   ]
  },
  {
   "cell_type": "code",
   "execution_count": 6,
   "metadata": {
    "collapsed": true
   },
   "outputs": [],
   "source": [
    "X_train, y_train = load_data('housing.csv')\n",
    "X_ones = np.ones(X_train.shape[0])\n",
    "X_train = np.concatenate((X_train, X_ones.reshape(-1,1)),axis=1)\n",
    "w_init=np.ones(X_train.shape[1])"
   ]
  },
  {
   "cell_type": "markdown",
   "metadata": {
    "collapsed": true
   },
   "source": [
    "Before optimization:"
   ]
  },
  {
   "cell_type": "code",
   "execution_count": 7,
   "metadata": {},
   "outputs": [
    {
     "data": {
      "text/plain": [
       "(376.34201972841527,\n",
       " array([  -278.55372446,  -2789.59612075,  -5319.31457794,  -1522.78509049,\n",
       "         -4801.7897896 ,  -9778.54512351, -10286.00350521,  -4686.86840578,\n",
       "         -4612.93530863,  -5462.17438534,  -9385.93292082, -16069.65366058,\n",
       "        -17014.63369512]))"
      ]
     },
     "execution_count": 7,
     "metadata": {},
     "output_type": "execute_result"
    }
   ],
   "source": [
    "linear_regression(X_train, y_train, w_init)"
   ]
  },
  {
   "cell_type": "code",
   "execution_count": 8,
   "metadata": {
    "collapsed": true
   },
   "outputs": [],
   "source": [
    "w = grad_descent(linear_regression, w_init, 1e-05, 0.01, X_train, y_train)"
   ]
  },
  {
   "cell_type": "code",
   "execution_count": 9,
   "metadata": {
    "collapsed": true
   },
   "outputs": [],
   "source": [
    "w_s = sgd(linear_regression, w_init, 1e-05, 10, X_train, y_train)"
   ]
  },
  {
   "cell_type": "markdown",
   "metadata": {},
   "source": [
    "After optimization:"
   ]
  },
  {
   "cell_type": "code",
   "execution_count": 10,
   "metadata": {},
   "outputs": [
    {
     "data": {
      "text/plain": [
       "(47.25729739425991,\n",
       " array([  69.3474786 ,  -44.5582515 ,  108.37777764, -133.75470706,\n",
       "          48.28505656, -517.53069456,   76.10757324,  169.31693703,\n",
       "        -107.82297455,   76.85189591,  363.48232898,   19.80782208,\n",
       "        -119.34647434]))"
      ]
     },
     "execution_count": 10,
     "metadata": {},
     "output_type": "execute_result"
    }
   ],
   "source": [
    "linear_regression(X_train, y_train, w)"
   ]
  },
  {
   "cell_type": "code",
   "execution_count": 11,
   "metadata": {
    "scrolled": true
   },
   "outputs": [
    {
     "data": {
      "text/plain": [
       "(239.87223598837005,\n",
       " array([   -58.74821862,  -2272.90248268,  -3294.21812426,  -1165.17857245,\n",
       "         -2995.53995528,  -7201.8031896 ,  -6831.02157286,  -3539.82572194,\n",
       "         -2637.42289223,  -3250.80579171,  -6233.50833065, -11599.94832859,\n",
       "        -12059.43084812]))"
      ]
     },
     "execution_count": 11,
     "metadata": {},
     "output_type": "execute_result"
    }
   ],
   "source": [
    "linear_regression(X_train, y_train, w_s)"
   ]
  },
  {
   "cell_type": "code",
   "execution_count": 12,
   "metadata": {},
   "outputs": [
    {
     "data": {
      "text/plain": [
       "array([-0.5454811 ,  5.14497303, -1.62133363,  3.66291856, -0.65539623,\n",
       "       11.47738098,  0.95847502,  3.5283659 , -1.43904418, -2.44205211,\n",
       "       -1.61602772,  9.37452843,  9.11817795])"
      ]
     },
     "execution_count": 12,
     "metadata": {},
     "output_type": "execute_result"
    }
   ],
   "source": [
    "w"
   ]
  },
  {
   "cell_type": "code",
   "execution_count": 13,
   "metadata": {},
   "outputs": [
    {
     "data": {
      "text/plain": [
       "array([1.01538063, 1.25156747, 1.42171281, 1.13306052, 1.38173332,\n",
       "       1.83974541, 1.84230371, 1.40800228, 1.35090483, 1.42403581,\n",
       "       1.76832054, 2.36802048, 2.43552477])"
      ]
     },
     "execution_count": 13,
     "metadata": {},
     "output_type": "execute_result"
    }
   ],
   "source": [
    "w_s"
   ]
  }
 ],
 "metadata": {
  "kernelspec": {
   "display_name": "Python3",
   "language": "python",
   "name": "python3"
  },
  "language_info": {
   "codemirror_mode": {
    "name": "ipython",
    "version": 3
   },
   "file_extension": ".py",
   "mimetype": "text/x-python",
   "name": "python",
   "nbconvert_exporter": "python",
   "pygments_lexer": "ipython3",
   "version": "3.6.2"
  }
 },
 "nbformat": 4,
 "nbformat_minor": 2
}
